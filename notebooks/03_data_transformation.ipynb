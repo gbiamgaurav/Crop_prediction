{
 "cells": [
  {
   "cell_type": "code",
   "execution_count": 1,
   "metadata": {},
   "outputs": [
    {
     "data": {
      "text/plain": [
       "'/config/workspace/notebooks'"
      ]
     },
     "execution_count": 1,
     "metadata": {},
     "output_type": "execute_result"
    }
   ],
   "source": [
    "import os, sys \n",
    "%pwd"
   ]
  },
  {
   "cell_type": "code",
   "execution_count": 2,
   "metadata": {},
   "outputs": [
    {
     "data": {
      "text/plain": [
       "'/config/workspace'"
      ]
     },
     "execution_count": 2,
     "metadata": {},
     "output_type": "execute_result"
    }
   ],
   "source": [
    "os.chdir(\"../\")\n",
    "%pwd"
   ]
  },
  {
   "cell_type": "code",
   "execution_count": 3,
   "metadata": {},
   "outputs": [],
   "source": [
    "from dataclasses import dataclass\n",
    "from pathlib import Path\n",
    "\n",
    "\n",
    "@dataclass(frozen=True)\n",
    "class DataTransformationConfig:\n",
    "    root_dir: Path\n",
    "    data_path: Path\n",
    "    preprocessor_path: Path"
   ]
  },
  {
   "cell_type": "code",
   "execution_count": 4,
   "metadata": {},
   "outputs": [],
   "source": [
    "from cropPrediction.constants import * \n",
    "from cropPrediction.utils.common import read_yaml, create_directories"
   ]
  },
  {
   "cell_type": "code",
   "execution_count": 5,
   "metadata": {},
   "outputs": [],
   "source": [
    "class ConfigurationManager:\n",
    "    def __init__(\n",
    "        self,\n",
    "        config_filepath = CONFIG_FILE_PATH,\n",
    "        params_filepath = PARAMS_FILE_PATH,\n",
    "        schema_filepath = SCHEMA_FILE_PATH):\n",
    "\n",
    "        self.config = read_yaml(config_filepath)\n",
    "        self.params = read_yaml(params_filepath)\n",
    "        self.schema = read_yaml(schema_filepath)\n",
    "\n",
    "        create_directories([self.config.artifacts_root])\n",
    "\n",
    "    \n",
    "    def get_data_transformation_config(self) -> DataTransformationConfig:\n",
    "        config = self.config.data_transformation\n",
    "\n",
    "        create_directories([config.root_dir])\n",
    "\n",
    "        data_transformation_config = DataTransformationConfig(\n",
    "            root_dir=config.root_dir,\n",
    "            data_path=config.data_path,\n",
    "            preprocessor_path=config.preprocessor_path\n",
    "        )\n",
    "\n",
    "        return data_transformation_config"
   ]
  },
  {
   "cell_type": "code",
   "execution_count": 6,
   "metadata": {},
   "outputs": [],
   "source": [
    "import os\n",
    "import pandas as pd\n",
    "import joblib\n",
    "from sklearn.compose import ColumnTransformer\n",
    "from sklearn.impute import SimpleImputer\n",
    "from sklearn.preprocessing import StandardScaler, LabelEncoder\n",
    "from sklearn.pipeline import Pipeline\n",
    "from sklearn.model_selection import train_test_split\n",
    "from cropPrediction import logger\n",
    "\n",
    "class DataTransformation:\n",
    "    def __init__(self, config):\n",
    "        self.config = config\n",
    "        self.preprocessor = None \n",
    "        self.transformed_df = None\n",
    "\n",
    "    def get_data_transformation(self):\n",
    "        try:\n",
    "            # Load the dataset\n",
    "            df = pd.read_csv(self.config.data_path)\n",
    "\n",
    "            # Divide the dataset into independent and dependent features\n",
    "            X = df.drop(columns=[\"label\"], axis=1)\n",
    "            y = df[\"label\"]\n",
    "\n",
    "            logger.info(\"Dividing the dataset into independent and dependent features completed\")\n",
    "\n",
    "            # Create an instance of LabelEncoder\n",
    "            label_encoder = LabelEncoder()\n",
    "\n",
    "            # Fit the label encoder to your categorical labels (y) and transform them\n",
    "            y_encoded = label_encoder.fit_transform(y)\n",
    "\n",
    "            logger.info(\"Encoding Target variable completed\")\n",
    "\n",
    "            numerical_features = X.select_dtypes(exclude=\"object\").columns\n",
    "            \n",
    "            # Define the pipeline\n",
    "            num_pipeline = Pipeline(\n",
    "                steps=[\n",
    "                    (\"imputer\", SimpleImputer(strategy=\"median\")),\n",
    "                    (\"scaler\", StandardScaler())])\n",
    "\n",
    "            # Define the Preprocessor\n",
    "            preprocessor = ColumnTransformer(\n",
    "                transformers=[\n",
    "                    (\"num_pipeline\", num_pipeline, numerical_features),\n",
    "                ]\n",
    "            )\n",
    "\n",
    "            self.preprocessor = preprocessor\n",
    "\n",
    "            # Transform the whole data using the preprocessor\n",
    "            X_transformed = preprocessor.fit_transform(X)\n",
    "\n",
    "            # Get the updated column names after ordinal encoding\n",
    "            column_names = numerical_features.to_list()\n",
    "\n",
    "            # Combine X_transformed and y back into one Dataframe\n",
    "            self.transformed_df = pd.DataFrame(X_transformed, columns=column_names)\n",
    "            self.transformed_df[\"label\"] = y_encoded\n",
    "\n",
    "            logger.info(\"Data preprocessing completed\")\n",
    "\n",
    "        except Exception as e:\n",
    "            raise e\n",
    "\n",
    "    def save_preprocessor(self):\n",
    "        if self.preprocessor is not None:\n",
    "            joblib.dump(self.preprocessor, self.config.preprocessor_path)\n",
    "            logger.info(f\"Preprocessor saved to {self.config.preprocessor_path}\")\n",
    "        else:\n",
    "            logger.warning(\"Preprocessor is not available. Please call get_data_transformation to create it.\") \n",
    "\n",
    "    def train_test_split(self, test_size=0.2, random_state=None):\n",
    "        if self.preprocessor is None:\n",
    "            raise ValueError(\"Preprocessor is not available. Please call get_data_transformation.\")\n",
    "\n",
    "        # Split the data into train and test sets\n",
    "        train, test = train_test_split(self.transformed_df, test_size=test_size, random_state=random_state)\n",
    "\n",
    "        # Save the encoded train and test sets in the form of CSV files\n",
    "        train.to_csv(os.path.join(self.config.root_dir, \"train.csv\"), index=False)\n",
    "        test.to_csv(os.path.join(self.config.root_dir, \"test.csv\"), index=False)\n",
    "\n",
    "        logger.info(\"Split the data into train and test sets.\")\n",
    "        logger.info(f\"Shape of train data: {train.shape}\")\n",
    "        logger.info(f\"Shape of test data: {test.shape}\")"
   ]
  },
  {
   "cell_type": "code",
   "execution_count": 7,
   "metadata": {},
   "outputs": [
    {
     "name": "stdout",
     "output_type": "stream",
     "text": [
      "[2023-09-28 10:44:24,873: INFO: common: yaml file: config/config.yaml loaded successfully]\n",
      "[2023-09-28 10:44:24,875: INFO: common: yaml file: params.yaml loaded successfully]\n",
      "[2023-09-28 10:44:24,878: INFO: common: yaml file: schema.yaml loaded successfully]\n",
      "[2023-09-28 10:44:24,879: INFO: common: created directory at: artifacts]\n",
      "[2023-09-28 10:44:24,880: INFO: common: created directory at: artifacts/data_transformation]\n",
      "[2023-09-28 10:44:24,888: INFO: 3976750005: Dividing the dataset into independent and dependent features completed]\n",
      "[2023-09-28 10:44:24,890: INFO: 3976750005: Encoding Target variable completed]\n",
      "[2023-09-28 10:44:24,901: INFO: 3976750005: Data preprocessing completed]\n",
      "[2023-09-28 10:44:24,905: INFO: 3976750005: Preprocessor saved to artifacts/data_transformation/preprocessor.joblib]\n",
      "[2023-09-28 10:44:24,938: INFO: 3976750005: Split the data into train and test sets.]\n",
      "[2023-09-28 10:44:24,939: INFO: 3976750005: Shape of train data: (1760, 8)]\n",
      "[2023-09-28 10:44:24,940: INFO: 3976750005: Shape of test data: (440, 8)]\n"
     ]
    }
   ],
   "source": [
    "try:\n",
    "    config = ConfigurationManager()\n",
    "    data_transformation_config = config.get_data_transformation_config()\n",
    "    data_transformation = DataTransformation(config=data_transformation_config)\n",
    "    data_transformation.get_data_transformation()\n",
    "    data_transformation.save_preprocessor()\n",
    "    data_transformation.train_test_split()\n",
    "except Exception as e:\n",
    "    raise e"
   ]
  },
  {
   "cell_type": "code",
   "execution_count": null,
   "metadata": {},
   "outputs": [],
   "source": []
  }
 ],
 "metadata": {
  "kernelspec": {
   "display_name": "Python 3.8.18 (conda)",
   "language": "python",
   "name": "python3"
  },
  "language_info": {
   "codemirror_mode": {
    "name": "ipython",
    "version": 3
   },
   "file_extension": ".py",
   "mimetype": "text/x-python",
   "name": "python",
   "nbconvert_exporter": "python",
   "pygments_lexer": "ipython3",
   "version": "3.8.18"
  },
  "orig_nbformat": 4,
  "vscode": {
   "interpreter": {
    "hash": "73d8499d44d089161d3f9b75cf2da8fdea78dcbee2ca80ac129ed5b4a90c84ed"
   }
  }
 },
 "nbformat": 4,
 "nbformat_minor": 2
}
